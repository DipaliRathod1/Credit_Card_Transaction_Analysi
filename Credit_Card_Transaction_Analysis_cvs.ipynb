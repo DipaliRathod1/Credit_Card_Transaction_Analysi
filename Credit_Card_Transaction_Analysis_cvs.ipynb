{
 "cells": [
  {
   "cell_type": "code",
   "execution_count": 76,
   "id": "79132249-217b-4a28-b3f7-2d47e5172160",
   "metadata": {},
   "outputs": [],
   "source": [
    "import pandas as pd\n",
    "import numpy as sb\n",
    "import matplotlib.pyplot as plt\n",
    "import seaborn as sb"
   ]
  },
  {
   "cell_type": "code",
   "execution_count": 77,
   "id": "27697159-0e6f-4d2d-af27-a998f435930c",
   "metadata": {},
   "outputs": [],
   "source": [
    "df=pd.read_csv(\"../Datasets/Credit card transactions - India - Simple.csv\")"
   ]
  },
  {
   "cell_type": "code",
   "execution_count": 78,
   "id": "fad1ddcd-5c16-44d2-9125-ba82b102a69d",
   "metadata": {},
   "outputs": [
    {
     "data": {
      "text/html": [
       "<div>\n",
       "<style scoped>\n",
       "    .dataframe tbody tr th:only-of-type {\n",
       "        vertical-align: middle;\n",
       "    }\n",
       "\n",
       "    .dataframe tbody tr th {\n",
       "        vertical-align: top;\n",
       "    }\n",
       "\n",
       "    .dataframe thead th {\n",
       "        text-align: right;\n",
       "    }\n",
       "</style>\n",
       "<table border=\"1\" class=\"dataframe\">\n",
       "  <thead>\n",
       "    <tr style=\"text-align: right;\">\n",
       "      <th></th>\n",
       "      <th>index</th>\n",
       "      <th>City</th>\n",
       "      <th>Date</th>\n",
       "      <th>Card Type</th>\n",
       "      <th>Exp Type</th>\n",
       "      <th>Gender</th>\n",
       "      <th>Amount</th>\n",
       "    </tr>\n",
       "  </thead>\n",
       "  <tbody>\n",
       "    <tr>\n",
       "      <th>0</th>\n",
       "      <td>0</td>\n",
       "      <td>Delhi, India</td>\n",
       "      <td>29-Oct-14</td>\n",
       "      <td>Gold</td>\n",
       "      <td>Bills</td>\n",
       "      <td>F</td>\n",
       "      <td>82475</td>\n",
       "    </tr>\n",
       "    <tr>\n",
       "      <th>1</th>\n",
       "      <td>1</td>\n",
       "      <td>Greater Mumbai, India</td>\n",
       "      <td>22-Aug-14</td>\n",
       "      <td>Platinum</td>\n",
       "      <td>Bills</td>\n",
       "      <td>F</td>\n",
       "      <td>32555</td>\n",
       "    </tr>\n",
       "    <tr>\n",
       "      <th>2</th>\n",
       "      <td>2</td>\n",
       "      <td>Bengaluru, India</td>\n",
       "      <td>27-Aug-14</td>\n",
       "      <td>Silver</td>\n",
       "      <td>Bills</td>\n",
       "      <td>F</td>\n",
       "      <td>101738</td>\n",
       "    </tr>\n",
       "    <tr>\n",
       "      <th>3</th>\n",
       "      <td>3</td>\n",
       "      <td>Greater Mumbai, India</td>\n",
       "      <td>12-Apr-14</td>\n",
       "      <td>Signature</td>\n",
       "      <td>Bills</td>\n",
       "      <td>F</td>\n",
       "      <td>123424</td>\n",
       "    </tr>\n",
       "    <tr>\n",
       "      <th>4</th>\n",
       "      <td>4</td>\n",
       "      <td>Bengaluru, India</td>\n",
       "      <td>5-May-15</td>\n",
       "      <td>Gold</td>\n",
       "      <td>Bills</td>\n",
       "      <td>F</td>\n",
       "      <td>171574</td>\n",
       "    </tr>\n",
       "    <tr>\n",
       "      <th>...</th>\n",
       "      <td>...</td>\n",
       "      <td>...</td>\n",
       "      <td>...</td>\n",
       "      <td>...</td>\n",
       "      <td>...</td>\n",
       "      <td>...</td>\n",
       "      <td>...</td>\n",
       "    </tr>\n",
       "    <tr>\n",
       "      <th>26047</th>\n",
       "      <td>26047</td>\n",
       "      <td>Kolkata, India</td>\n",
       "      <td>22-Jun-14</td>\n",
       "      <td>Silver</td>\n",
       "      <td>Travel</td>\n",
       "      <td>F</td>\n",
       "      <td>128191</td>\n",
       "    </tr>\n",
       "    <tr>\n",
       "      <th>26048</th>\n",
       "      <td>26048</td>\n",
       "      <td>Pune, India</td>\n",
       "      <td>3-Aug-14</td>\n",
       "      <td>Signature</td>\n",
       "      <td>Travel</td>\n",
       "      <td>M</td>\n",
       "      <td>246316</td>\n",
       "    </tr>\n",
       "    <tr>\n",
       "      <th>26049</th>\n",
       "      <td>26049</td>\n",
       "      <td>Hyderabad, India</td>\n",
       "      <td>16-Jan-15</td>\n",
       "      <td>Silver</td>\n",
       "      <td>Travel</td>\n",
       "      <td>M</td>\n",
       "      <td>265019</td>\n",
       "    </tr>\n",
       "    <tr>\n",
       "      <th>26050</th>\n",
       "      <td>26050</td>\n",
       "      <td>Kanpur, India</td>\n",
       "      <td>14-Sep-14</td>\n",
       "      <td>Silver</td>\n",
       "      <td>Travel</td>\n",
       "      <td>M</td>\n",
       "      <td>88174</td>\n",
       "    </tr>\n",
       "    <tr>\n",
       "      <th>26051</th>\n",
       "      <td>26051</td>\n",
       "      <td>Hyderabad, India</td>\n",
       "      <td>19-Oct-13</td>\n",
       "      <td>Signature</td>\n",
       "      <td>Bills</td>\n",
       "      <td>M</td>\n",
       "      <td>184410</td>\n",
       "    </tr>\n",
       "  </tbody>\n",
       "</table>\n",
       "<p>26052 rows × 7 columns</p>\n",
       "</div>"
      ],
      "text/plain": [
       "       index                   City       Date  Card Type Exp Type Gender  \\\n",
       "0          0           Delhi, India  29-Oct-14       Gold    Bills      F   \n",
       "1          1  Greater Mumbai, India  22-Aug-14   Platinum    Bills      F   \n",
       "2          2       Bengaluru, India  27-Aug-14     Silver    Bills      F   \n",
       "3          3  Greater Mumbai, India  12-Apr-14  Signature    Bills      F   \n",
       "4          4       Bengaluru, India   5-May-15       Gold    Bills      F   \n",
       "...      ...                    ...        ...        ...      ...    ...   \n",
       "26047  26047         Kolkata, India  22-Jun-14     Silver   Travel      F   \n",
       "26048  26048            Pune, India   3-Aug-14  Signature   Travel      M   \n",
       "26049  26049       Hyderabad, India  16-Jan-15     Silver   Travel      M   \n",
       "26050  26050          Kanpur, India  14-Sep-14     Silver   Travel      M   \n",
       "26051  26051       Hyderabad, India  19-Oct-13  Signature    Bills      M   \n",
       "\n",
       "       Amount  \n",
       "0       82475  \n",
       "1       32555  \n",
       "2      101738  \n",
       "3      123424  \n",
       "4      171574  \n",
       "...       ...  \n",
       "26047  128191  \n",
       "26048  246316  \n",
       "26049  265019  \n",
       "26050   88174  \n",
       "26051  184410  \n",
       "\n",
       "[26052 rows x 7 columns]"
      ]
     },
     "execution_count": 78,
     "metadata": {},
     "output_type": "execute_result"
    }
   ],
   "source": [
    "df"
   ]
  },
  {
   "cell_type": "code",
   "execution_count": 79,
   "id": "2d562bbc-c93e-43cf-8a56-5e56900733db",
   "metadata": {},
   "outputs": [],
   "source": [
    "df = df.rename( columns = {'Card Type':'Card_Type'})\n",
    "df = df.rename( columns = {'Exp Type':'Exp_Type'})"
   ]
  },
  {
   "cell_type": "code",
   "execution_count": 80,
   "id": "34391f72-ebde-4f3e-93c3-8514cd1380b7",
   "metadata": {},
   "outputs": [],
   "source": [
    "df.Date = df.Date.astype('datetime64[ns]')"
   ]
  },
  {
   "cell_type": "code",
   "execution_count": 81,
   "id": "93956f2b-93f7-4fef-b944-7852588824f4",
   "metadata": {},
   "outputs": [],
   "source": [
    "df['Year'] = df['Date'].dt.year\n",
    "df['Month'] = df['Date'].dt.month"
   ]
  },
  {
   "cell_type": "code",
   "execution_count": 82,
   "id": "8ad79ca0-b2b9-434a-9a0e-ec9e115fa8c2",
   "metadata": {},
   "outputs": [
    {
     "data": {
      "text/html": [
       "<div>\n",
       "<style scoped>\n",
       "    .dataframe tbody tr th:only-of-type {\n",
       "        vertical-align: middle;\n",
       "    }\n",
       "\n",
       "    .dataframe tbody tr th {\n",
       "        vertical-align: top;\n",
       "    }\n",
       "\n",
       "    .dataframe thead th {\n",
       "        text-align: right;\n",
       "    }\n",
       "</style>\n",
       "<table border=\"1\" class=\"dataframe\">\n",
       "  <thead>\n",
       "    <tr style=\"text-align: right;\">\n",
       "      <th></th>\n",
       "      <th>index</th>\n",
       "      <th>City</th>\n",
       "      <th>Date</th>\n",
       "      <th>Card_Type</th>\n",
       "      <th>Exp_Type</th>\n",
       "      <th>Gender</th>\n",
       "      <th>Amount</th>\n",
       "      <th>Year</th>\n",
       "      <th>Month</th>\n",
       "    </tr>\n",
       "  </thead>\n",
       "  <tbody>\n",
       "    <tr>\n",
       "      <th>0</th>\n",
       "      <td>0</td>\n",
       "      <td>Delhi, India</td>\n",
       "      <td>2014-10-29</td>\n",
       "      <td>Gold</td>\n",
       "      <td>Bills</td>\n",
       "      <td>F</td>\n",
       "      <td>82475</td>\n",
       "      <td>2014</td>\n",
       "      <td>10</td>\n",
       "    </tr>\n",
       "    <tr>\n",
       "      <th>1</th>\n",
       "      <td>1</td>\n",
       "      <td>Greater Mumbai, India</td>\n",
       "      <td>2014-08-22</td>\n",
       "      <td>Platinum</td>\n",
       "      <td>Bills</td>\n",
       "      <td>F</td>\n",
       "      <td>32555</td>\n",
       "      <td>2014</td>\n",
       "      <td>8</td>\n",
       "    </tr>\n",
       "    <tr>\n",
       "      <th>2</th>\n",
       "      <td>2</td>\n",
       "      <td>Bengaluru, India</td>\n",
       "      <td>2014-08-27</td>\n",
       "      <td>Silver</td>\n",
       "      <td>Bills</td>\n",
       "      <td>F</td>\n",
       "      <td>101738</td>\n",
       "      <td>2014</td>\n",
       "      <td>8</td>\n",
       "    </tr>\n",
       "    <tr>\n",
       "      <th>3</th>\n",
       "      <td>3</td>\n",
       "      <td>Greater Mumbai, India</td>\n",
       "      <td>2014-04-12</td>\n",
       "      <td>Signature</td>\n",
       "      <td>Bills</td>\n",
       "      <td>F</td>\n",
       "      <td>123424</td>\n",
       "      <td>2014</td>\n",
       "      <td>4</td>\n",
       "    </tr>\n",
       "    <tr>\n",
       "      <th>4</th>\n",
       "      <td>4</td>\n",
       "      <td>Bengaluru, India</td>\n",
       "      <td>2015-05-05</td>\n",
       "      <td>Gold</td>\n",
       "      <td>Bills</td>\n",
       "      <td>F</td>\n",
       "      <td>171574</td>\n",
       "      <td>2015</td>\n",
       "      <td>5</td>\n",
       "    </tr>\n",
       "    <tr>\n",
       "      <th>...</th>\n",
       "      <td>...</td>\n",
       "      <td>...</td>\n",
       "      <td>...</td>\n",
       "      <td>...</td>\n",
       "      <td>...</td>\n",
       "      <td>...</td>\n",
       "      <td>...</td>\n",
       "      <td>...</td>\n",
       "      <td>...</td>\n",
       "    </tr>\n",
       "    <tr>\n",
       "      <th>26047</th>\n",
       "      <td>26047</td>\n",
       "      <td>Kolkata, India</td>\n",
       "      <td>2014-06-22</td>\n",
       "      <td>Silver</td>\n",
       "      <td>Travel</td>\n",
       "      <td>F</td>\n",
       "      <td>128191</td>\n",
       "      <td>2014</td>\n",
       "      <td>6</td>\n",
       "    </tr>\n",
       "    <tr>\n",
       "      <th>26048</th>\n",
       "      <td>26048</td>\n",
       "      <td>Pune, India</td>\n",
       "      <td>2014-08-03</td>\n",
       "      <td>Signature</td>\n",
       "      <td>Travel</td>\n",
       "      <td>M</td>\n",
       "      <td>246316</td>\n",
       "      <td>2014</td>\n",
       "      <td>8</td>\n",
       "    </tr>\n",
       "    <tr>\n",
       "      <th>26049</th>\n",
       "      <td>26049</td>\n",
       "      <td>Hyderabad, India</td>\n",
       "      <td>2015-01-16</td>\n",
       "      <td>Silver</td>\n",
       "      <td>Travel</td>\n",
       "      <td>M</td>\n",
       "      <td>265019</td>\n",
       "      <td>2015</td>\n",
       "      <td>1</td>\n",
       "    </tr>\n",
       "    <tr>\n",
       "      <th>26050</th>\n",
       "      <td>26050</td>\n",
       "      <td>Kanpur, India</td>\n",
       "      <td>2014-09-14</td>\n",
       "      <td>Silver</td>\n",
       "      <td>Travel</td>\n",
       "      <td>M</td>\n",
       "      <td>88174</td>\n",
       "      <td>2014</td>\n",
       "      <td>9</td>\n",
       "    </tr>\n",
       "    <tr>\n",
       "      <th>26051</th>\n",
       "      <td>26051</td>\n",
       "      <td>Hyderabad, India</td>\n",
       "      <td>2013-10-19</td>\n",
       "      <td>Signature</td>\n",
       "      <td>Bills</td>\n",
       "      <td>M</td>\n",
       "      <td>184410</td>\n",
       "      <td>2013</td>\n",
       "      <td>10</td>\n",
       "    </tr>\n",
       "  </tbody>\n",
       "</table>\n",
       "<p>26052 rows × 9 columns</p>\n",
       "</div>"
      ],
      "text/plain": [
       "       index                   City       Date  Card_Type Exp_Type Gender  \\\n",
       "0          0           Delhi, India 2014-10-29       Gold    Bills      F   \n",
       "1          1  Greater Mumbai, India 2014-08-22   Platinum    Bills      F   \n",
       "2          2       Bengaluru, India 2014-08-27     Silver    Bills      F   \n",
       "3          3  Greater Mumbai, India 2014-04-12  Signature    Bills      F   \n",
       "4          4       Bengaluru, India 2015-05-05       Gold    Bills      F   \n",
       "...      ...                    ...        ...        ...      ...    ...   \n",
       "26047  26047         Kolkata, India 2014-06-22     Silver   Travel      F   \n",
       "26048  26048            Pune, India 2014-08-03  Signature   Travel      M   \n",
       "26049  26049       Hyderabad, India 2015-01-16     Silver   Travel      M   \n",
       "26050  26050          Kanpur, India 2014-09-14     Silver   Travel      M   \n",
       "26051  26051       Hyderabad, India 2013-10-19  Signature    Bills      M   \n",
       "\n",
       "       Amount  Year  Month  \n",
       "0       82475  2014     10  \n",
       "1       32555  2014      8  \n",
       "2      101738  2014      8  \n",
       "3      123424  2014      4  \n",
       "4      171574  2015      5  \n",
       "...       ...   ...    ...  \n",
       "26047  128191  2014      6  \n",
       "26048  246316  2014      8  \n",
       "26049  265019  2015      1  \n",
       "26050   88174  2014      9  \n",
       "26051  184410  2013     10  \n",
       "\n",
       "[26052 rows x 9 columns]"
      ]
     },
     "execution_count": 82,
     "metadata": {},
     "output_type": "execute_result"
    }
   ],
   "source": [
    "df"
   ]
  },
  {
   "cell_type": "code",
   "execution_count": 83,
   "id": "17162314-510c-41c3-9617-74ccc54f9209",
   "metadata": {},
   "outputs": [
    {
     "data": {
      "text/plain": [
       "index                 int64\n",
       "City                 object\n",
       "Date         datetime64[ns]\n",
       "Card_Type            object\n",
       "Exp_Type             object\n",
       "Gender               object\n",
       "Amount                int64\n",
       "Year                  int32\n",
       "Month                 int32\n",
       "dtype: object"
      ]
     },
     "execution_count": 83,
     "metadata": {},
     "output_type": "execute_result"
    }
   ],
   "source": [
    "df.dtypes"
   ]
  },
  {
   "cell_type": "code",
   "execution_count": 84,
   "id": "ae8fd755-41c0-4345-aa7f-cff5ef4f89e7",
   "metadata": {},
   "outputs": [
    {
     "data": {
      "text/plain": [
       "City\n",
       "Bengaluru, India          3552\n",
       "Greater Mumbai, India     3493\n",
       "Ahmedabad, India          3491\n",
       "Delhi, India              3482\n",
       "Hyderabad, India           784\n",
       "                          ... \n",
       "Rayagada, India              1\n",
       "Varanasi, India              1\n",
       "Hugli-Chinsurah, India       1\n",
       "Alirajpur, India             1\n",
       "Fazilka, India               1\n",
       "Name: count, Length: 986, dtype: int64"
      ]
     },
     "execution_count": 84,
     "metadata": {},
     "output_type": "execute_result"
    }
   ],
   "source": [
    "df['City'].value_counts()"
   ]
  },
  {
   "cell_type": "code",
   "execution_count": 85,
   "id": "7c454713-1218-496c-a25a-804da654a5b4",
   "metadata": {},
   "outputs": [
    {
     "data": {
      "text/plain": [
       "City\n",
       "Thodupuzha, India      296684.000000\n",
       "Nahan, India           264597.600000\n",
       "Alwar, India           263488.666667\n",
       "Manendragarh, India    257140.500000\n",
       "Vellore, India         256179.000000\n",
       "Kashipur, India        254690.750000\n",
       "Rewari, India          253201.800000\n",
       "Yadgir, India          249814.333333\n",
       "Kadapa, India          249608.428571\n",
       "Viramgam, India        246201.000000\n",
       "Name: Amount, dtype: float64"
      ]
     },
     "execution_count": 85,
     "metadata": {},
     "output_type": "execute_result"
    }
   ],
   "source": [
    "df.groupby('City')['Amount'].mean().nlargest(10)"
   ]
  },
  {
   "cell_type": "code",
   "execution_count": 86,
   "id": "95db6bb9-9692-40de-8323-80177eab20a4",
   "metadata": {},
   "outputs": [
    {
     "data": {
      "text/plain": [
       "Month  City              \n",
       "1      Adoni, India            205703\n",
       "       Adoor, India              8944\n",
       "       Agra, India             129754\n",
       "       Ahmedabad, India      60556530\n",
       "       Aizawl, India           241529\n",
       "                               ...   \n",
       "12     Yerraguntla, India      259335\n",
       "       Zaidpur, India          154299\n",
       "       Zira, India             283129\n",
       "       Zirakpur, India         175566\n",
       "       Zunheboto, India         78591\n",
       "Name: Amount, Length: 4700, dtype: int64"
      ]
     },
     "execution_count": 86,
     "metadata": {},
     "output_type": "execute_result"
    }
   ],
   "source": [
    "df.groupby(['Month','City'])['Amount'].sum()"
   ]
  },
  {
   "cell_type": "code",
   "execution_count": 87,
   "id": "8503704f-37c4-4515-81f3-81956249ad77",
   "metadata": {},
   "outputs": [
    {
     "data": {
      "text/plain": [
       "Date\n",
       "2013-10-04    9738755\n",
       "2013-10-05    8062632\n",
       "2013-10-06    6990055\n",
       "2013-10-07    7822992\n",
       "2013-10-08    5832533\n",
       "               ...   \n",
       "2015-05-22    6613863\n",
       "2015-05-23    6393798\n",
       "2015-05-24    7171912\n",
       "2015-05-25    5176669\n",
       "2015-05-26    7591837\n",
       "Name: Amount, Length: 600, dtype: int64"
      ]
     },
     "execution_count": 87,
     "metadata": {},
     "output_type": "execute_result"
    }
   ],
   "source": [
    "df.groupby('Date')['Amount'].sum()"
   ]
  },
  {
   "cell_type": "code",
   "execution_count": 88,
   "id": "61fe78fb-e029-4ced-929f-c72f4ce7336e",
   "metadata": {},
   "outputs": [
    {
     "data": {
      "text/plain": [
       "Year  Card_Type\n",
       "2013  Gold         144740555\n",
       "      Platinum     155964176\n",
       "      Signature    161225096\n",
       "      Silver       151714057\n",
       "2014  Gold         600688076\n",
       "      Platinum     600077102\n",
       "      Signature    606750478\n",
       "      Silver       647198377\n",
       "2015  Gold         239110905\n",
       "      Platinum     251597741\n",
       "      Signature    245065531\n",
       "      Silver       270701279\n",
       "Name: Amount, dtype: int64"
      ]
     },
     "execution_count": 88,
     "metadata": {},
     "output_type": "execute_result"
    }
   ],
   "source": [
    "df.groupby(['Year','Card_Type'])['Amount'].sum()"
   ]
  },
  {
   "cell_type": "code",
   "execution_count": 89,
   "id": "0d2804e3-a88f-467b-8e82-70a1117c9f73",
   "metadata": {},
   "outputs": [
    {
     "data": {
      "text/plain": [
       "Year  Card_Type\n",
       "2013  Gold         153489.453871\n",
       "      Platinum     160622.220391\n",
       "      Signature    161872.586345\n",
       "      Silver       149178.030482\n",
       "2014  Gold         154458.235022\n",
       "      Platinum     155742.824293\n",
       "      Signature    155856.788595\n",
       "      Silver       155726.269731\n",
       "2015  Gold         155772.576547\n",
       "      Platinum     159846.087039\n",
       "      Signature    157294.949294\n",
       "      Silver       162388.289742\n",
       "Name: Amount, dtype: float64"
      ]
     },
     "execution_count": 89,
     "metadata": {},
     "output_type": "execute_result"
    }
   ],
   "source": [
    "df.groupby(['Year','Card_Type'])['Amount'].mean()"
   ]
  },
  {
   "cell_type": "code",
   "execution_count": 38,
   "id": "687fee84-1fcc-4658-8582-d06f9c65d153",
   "metadata": {},
   "outputs": [
    {
     "data": {
      "text/plain": [
       "15464   2013-10-04\n",
       "9427    2013-10-04\n",
       "9418    2013-10-04\n",
       "9244    2013-10-04\n",
       "1521    2013-10-04\n",
       "1612    2013-10-04\n",
       "15118   2013-10-04\n",
       "18278   2013-10-04\n",
       "4104    2013-10-04\n",
       "50      2013-10-04\n",
       "Name: Date, dtype: datetime64[ns]"
      ]
     },
     "execution_count": 38,
     "metadata": {},
     "output_type": "execute_result"
    }
   ],
   "source": [
    "a = df['Date'].sort_values().head(10)\n",
    "a"
   ]
  },
  {
   "cell_type": "code",
   "execution_count": 39,
   "id": "fbca61c6-467d-421a-a33b-9ea58872f976",
   "metadata": {},
   "outputs": [
    {
     "data": {
      "text/plain": [
       "13424   2015-05-26\n",
       "12574   2015-05-26\n",
       "21610   2015-05-26\n",
       "24604   2015-05-26\n",
       "21912   2015-05-26\n",
       "1491    2015-05-26\n",
       "12432   2015-05-26\n",
       "22448   2015-05-26\n",
       "1077    2015-05-26\n",
       "11566   2015-05-26\n",
       "Name: Date, dtype: datetime64[ns]"
      ]
     },
     "execution_count": 39,
     "metadata": {},
     "output_type": "execute_result"
    }
   ],
   "source": [
    "b = df['Date'].sort_values(ascending=False).head(10)\n",
    "b"
   ]
  },
  {
   "cell_type": "code",
   "execution_count": 40,
   "id": "a011a742-d589-4dbe-8919-a7f9e6032ffd",
   "metadata": {},
   "outputs": [
    {
     "data": {
      "text/plain": [
       "Timestamp('2014-07-30 11:34:44.385075968')"
      ]
     },
     "execution_count": 40,
     "metadata": {},
     "output_type": "execute_result"
    }
   ],
   "source": [
    "df.Date.mean()"
   ]
  },
  {
   "cell_type": "code",
   "execution_count": 41,
   "id": "89f735cc-2e47-4965-a72f-f00df958d3c6",
   "metadata": {},
   "outputs": [
    {
     "data": {
      "text/plain": [
       "6.354022723783203"
      ]
     },
     "execution_count": 41,
     "metadata": {},
     "output_type": "execute_result"
    }
   ],
   "source": [
    "df.Month.mean()"
   ]
  },
  {
   "cell_type": "code",
   "execution_count": 42,
   "id": "c17e24d3-c47e-416a-920f-61a747c9106a",
   "metadata": {},
   "outputs": [
    {
     "data": {
      "text/plain": [
       "Card_Type\n",
       "Silver       6840\n",
       "Signature    6447\n",
       "Platinum     6398\n",
       "Gold         6367\n",
       "Name: count, dtype: int64"
      ]
     },
     "execution_count": 42,
     "metadata": {},
     "output_type": "execute_result"
    }
   ],
   "source": [
    "df['Card_Type'].value_counts()"
   ]
  },
  {
   "cell_type": "code",
   "execution_count": 43,
   "id": "6228f6ea-1d12-4990-aa48-b8e1665138f5",
   "metadata": {},
   "outputs": [
    {
     "data": {
      "text/plain": [
       "Exp_Type\n",
       "Food             5463\n",
       "Fuel             5257\n",
       "Bills            5078\n",
       "Entertainment    4762\n",
       "Grocery          4754\n",
       "Travel            738\n",
       "Name: count, dtype: int64"
      ]
     },
     "execution_count": 43,
     "metadata": {},
     "output_type": "execute_result"
    }
   ],
   "source": [
    "df['Exp_Type'].value_counts()"
   ]
  },
  {
   "cell_type": "code",
   "execution_count": 46,
   "id": "cad50d15-ee13-475a-840f-f73213fa3c99",
   "metadata": {},
   "outputs": [
    {
     "data": {
      "text/html": [
       "<div>\n",
       "<style scoped>\n",
       "    .dataframe tbody tr th:only-of-type {\n",
       "        vertical-align: middle;\n",
       "    }\n",
       "\n",
       "    .dataframe tbody tr th {\n",
       "        vertical-align: top;\n",
       "    }\n",
       "\n",
       "    .dataframe thead th {\n",
       "        text-align: right;\n",
       "    }\n",
       "</style>\n",
       "<table border=\"1\" class=\"dataframe\">\n",
       "  <thead>\n",
       "    <tr style=\"text-align: right;\">\n",
       "      <th></th>\n",
       "      <th>count</th>\n",
       "      <th>mean</th>\n",
       "      <th>std</th>\n",
       "      <th>min</th>\n",
       "      <th>25%</th>\n",
       "      <th>50%</th>\n",
       "      <th>75%</th>\n",
       "      <th>max</th>\n",
       "    </tr>\n",
       "    <tr>\n",
       "      <th>Card_Type</th>\n",
       "      <th></th>\n",
       "      <th></th>\n",
       "      <th></th>\n",
       "      <th></th>\n",
       "      <th></th>\n",
       "      <th></th>\n",
       "      <th></th>\n",
       "      <th></th>\n",
       "    </tr>\n",
       "  </thead>\n",
       "  <tbody>\n",
       "    <tr>\n",
       "      <th>Gold</th>\n",
       "      <td>6367.0</td>\n",
       "      <td>154631.621800</td>\n",
       "      <td>105800.484508</td>\n",
       "      <td>1038.0</td>\n",
       "      <td>74389.50</td>\n",
       "      <td>150431.0</td>\n",
       "      <td>224538.50</td>\n",
       "      <td>996754.0</td>\n",
       "    </tr>\n",
       "    <tr>\n",
       "      <th>Platinum</th>\n",
       "      <td>6398.0</td>\n",
       "      <td>157492.813223</td>\n",
       "      <td>102051.710950</td>\n",
       "      <td>1005.0</td>\n",
       "      <td>79394.75</td>\n",
       "      <td>154215.0</td>\n",
       "      <td>227670.25</td>\n",
       "      <td>998077.0</td>\n",
       "    </tr>\n",
       "    <tr>\n",
       "      <th>Signature</th>\n",
       "      <td>6447.0</td>\n",
       "      <td>157133.721886</td>\n",
       "      <td>104385.788773</td>\n",
       "      <td>1024.0</td>\n",
       "      <td>76500.00</td>\n",
       "      <td>153972.0</td>\n",
       "      <td>230244.50</td>\n",
       "      <td>994537.0</td>\n",
       "    </tr>\n",
       "    <tr>\n",
       "      <th>Silver</th>\n",
       "      <td>6840.0</td>\n",
       "      <td>156376.273830</td>\n",
       "      <td>100127.272753</td>\n",
       "      <td>1018.0</td>\n",
       "      <td>78180.00</td>\n",
       "      <td>154028.5</td>\n",
       "      <td>230039.75</td>\n",
       "      <td>955468.0</td>\n",
       "    </tr>\n",
       "  </tbody>\n",
       "</table>\n",
       "</div>"
      ],
      "text/plain": [
       "            count           mean            std     min       25%       50%  \\\n",
       "Card_Type                                                                     \n",
       "Gold       6367.0  154631.621800  105800.484508  1038.0  74389.50  150431.0   \n",
       "Platinum   6398.0  157492.813223  102051.710950  1005.0  79394.75  154215.0   \n",
       "Signature  6447.0  157133.721886  104385.788773  1024.0  76500.00  153972.0   \n",
       "Silver     6840.0  156376.273830  100127.272753  1018.0  78180.00  154028.5   \n",
       "\n",
       "                 75%       max  \n",
       "Card_Type                       \n",
       "Gold       224538.50  996754.0  \n",
       "Platinum   227670.25  998077.0  \n",
       "Signature  230244.50  994537.0  \n",
       "Silver     230039.75  955468.0  "
      ]
     },
     "execution_count": 46,
     "metadata": {},
     "output_type": "execute_result"
    }
   ],
   "source": [
    "df.groupby('Card_Type')['Amount'].describe()"
   ]
  },
  {
   "cell_type": "code",
   "execution_count": 48,
   "id": "3a30ff0f-4cb8-4d4b-9fa0-f77ee00f1a38",
   "metadata": {},
   "outputs": [
    {
     "data": {
      "text/html": [
       "<div>\n",
       "<style scoped>\n",
       "    .dataframe tbody tr th:only-of-type {\n",
       "        vertical-align: middle;\n",
       "    }\n",
       "\n",
       "    .dataframe tbody tr th {\n",
       "        vertical-align: top;\n",
       "    }\n",
       "\n",
       "    .dataframe thead th {\n",
       "        text-align: right;\n",
       "    }\n",
       "</style>\n",
       "<table border=\"1\" class=\"dataframe\">\n",
       "  <thead>\n",
       "    <tr style=\"text-align: right;\">\n",
       "      <th>Exp_Type</th>\n",
       "      <th>Bills</th>\n",
       "      <th>Entertainment</th>\n",
       "      <th>Food</th>\n",
       "      <th>Fuel</th>\n",
       "      <th>Grocery</th>\n",
       "      <th>Travel</th>\n",
       "    </tr>\n",
       "    <tr>\n",
       "      <th>Card_Type</th>\n",
       "      <th></th>\n",
       "      <th></th>\n",
       "      <th></th>\n",
       "      <th></th>\n",
       "      <th></th>\n",
       "      <th></th>\n",
       "    </tr>\n",
       "  </thead>\n",
       "  <tbody>\n",
       "    <tr>\n",
       "      <th>Gold</th>\n",
       "      <td>179565.245223</td>\n",
       "      <td>151765.934383</td>\n",
       "      <td>146563.127080</td>\n",
       "      <td>147790.054753</td>\n",
       "      <td>148567.339589</td>\n",
       "      <td>147122.150943</td>\n",
       "    </tr>\n",
       "    <tr>\n",
       "      <th>Platinum</th>\n",
       "      <td>180657.117168</td>\n",
       "      <td>156367.934288</td>\n",
       "      <td>153405.404814</td>\n",
       "      <td>149054.808756</td>\n",
       "      <td>151646.743363</td>\n",
       "      <td>135495.491620</td>\n",
       "    </tr>\n",
       "    <tr>\n",
       "      <th>Signature</th>\n",
       "      <td>179599.262907</td>\n",
       "      <td>152691.436752</td>\n",
       "      <td>155190.228743</td>\n",
       "      <td>146032.260498</td>\n",
       "      <td>152559.080882</td>\n",
       "      <td>153625.899441</td>\n",
       "    </tr>\n",
       "    <tr>\n",
       "      <th>Silver</th>\n",
       "      <td>174959.112444</td>\n",
       "      <td>149533.561014</td>\n",
       "      <td>148786.211659</td>\n",
       "      <td>157256.315362</td>\n",
       "      <td>151341.088993</td>\n",
       "      <td>156624.916667</td>\n",
       "    </tr>\n",
       "  </tbody>\n",
       "</table>\n",
       "</div>"
      ],
      "text/plain": [
       "Exp_Type           Bills  Entertainment           Food           Fuel  \\\n",
       "Card_Type                                                               \n",
       "Gold       179565.245223  151765.934383  146563.127080  147790.054753   \n",
       "Platinum   180657.117168  156367.934288  153405.404814  149054.808756   \n",
       "Signature  179599.262907  152691.436752  155190.228743  146032.260498   \n",
       "Silver     174959.112444  149533.561014  148786.211659  157256.315362   \n",
       "\n",
       "Exp_Type         Grocery         Travel  \n",
       "Card_Type                                \n",
       "Gold       148567.339589  147122.150943  \n",
       "Platinum   151646.743363  135495.491620  \n",
       "Signature  152559.080882  153625.899441  \n",
       "Silver     151341.088993  156624.916667  "
      ]
     },
     "execution_count": 48,
     "metadata": {},
     "output_type": "execute_result"
    }
   ],
   "source": [
    "df.groupby(['Card_Type','Exp_Type'])['Amount'].mean().unstack()"
   ]
  },
  {
   "cell_type": "code",
   "execution_count": 49,
   "id": "dd8bae62-c81c-41ce-9efb-d56a0b4084e7",
   "metadata": {},
   "outputs": [
    {
     "data": {
      "text/plain": [
       "Exp_Type\n",
       "Bills            907072473\n",
       "Entertainment    726437536\n",
       "Food             824724009\n",
       "Fuel             789135821\n",
       "Grocery          718207923\n",
       "Travel           109255611\n",
       "Name: Amount, dtype: int64"
      ]
     },
     "execution_count": 49,
     "metadata": {},
     "output_type": "execute_result"
    }
   ],
   "source": [
    "df.groupby('Exp_Type')['Amount'].sum()"
   ]
  },
  {
   "cell_type": "code",
   "execution_count": 50,
   "id": "4599b859-4c0f-4a4d-b9da-c312d0f05489",
   "metadata": {},
   "outputs": [
    {
     "data": {
      "text/plain": [
       "25486    Travel\n",
       "25399    Travel\n",
       "25403    Travel\n",
       "25402    Travel\n",
       "25401    Travel\n",
       "25479    Travel\n",
       "25489    Travel\n",
       "25490    Travel\n",
       "25478    Travel\n",
       "25477    Travel\n",
       "Name: Exp_Type, dtype: object"
      ]
     },
     "execution_count": 50,
     "metadata": {},
     "output_type": "execute_result"
    }
   ],
   "source": [
    "df['Exp_Type'].sort_values(ascending=False).head(10)"
   ]
  },
  {
   "cell_type": "code",
   "execution_count": 51,
   "id": "5596356d-c5ae-412e-ae92-a1035f258ab4",
   "metadata": {},
   "outputs": [
    {
     "data": {
      "text/plain": [
       "array(['Gold', 'Platinum', 'Silver', 'Signature'], dtype=object)"
      ]
     },
     "execution_count": 51,
     "metadata": {},
     "output_type": "execute_result"
    }
   ],
   "source": [
    "df.Card_Type.unique()"
   ]
  },
  {
   "cell_type": "code",
   "execution_count": 52,
   "id": "2bfd1c34-3d54-4d2c-a49f-5a79ddcf3793",
   "metadata": {},
   "outputs": [
    {
     "data": {
      "text/html": [
       "<div>\n",
       "<style scoped>\n",
       "    .dataframe tbody tr th:only-of-type {\n",
       "        vertical-align: middle;\n",
       "    }\n",
       "\n",
       "    .dataframe tbody tr th {\n",
       "        vertical-align: top;\n",
       "    }\n",
       "\n",
       "    .dataframe thead th {\n",
       "        text-align: right;\n",
       "    }\n",
       "</style>\n",
       "<table border=\"1\" class=\"dataframe\">\n",
       "  <thead>\n",
       "    <tr style=\"text-align: right;\">\n",
       "      <th></th>\n",
       "      <th>index</th>\n",
       "      <th>Date</th>\n",
       "      <th>Amount</th>\n",
       "      <th>Year</th>\n",
       "      <th>Month</th>\n",
       "    </tr>\n",
       "  </thead>\n",
       "  <tbody>\n",
       "    <tr>\n",
       "      <th>count</th>\n",
       "      <td>26052.000000</td>\n",
       "      <td>26052</td>\n",
       "      <td>26052.000000</td>\n",
       "      <td>26052.000000</td>\n",
       "      <td>26052.000000</td>\n",
       "    </tr>\n",
       "    <tr>\n",
       "      <th>mean</th>\n",
       "      <td>13025.500000</td>\n",
       "      <td>2014-07-30 11:34:44.385075968</td>\n",
       "      <td>156411.537425</td>\n",
       "      <td>2014.092392</td>\n",
       "      <td>6.354023</td>\n",
       "    </tr>\n",
       "    <tr>\n",
       "      <th>min</th>\n",
       "      <td>0.000000</td>\n",
       "      <td>2013-10-04 00:00:00</td>\n",
       "      <td>1005.000000</td>\n",
       "      <td>2013.000000</td>\n",
       "      <td>1.000000</td>\n",
       "    </tr>\n",
       "    <tr>\n",
       "      <th>25%</th>\n",
       "      <td>6512.750000</td>\n",
       "      <td>2014-03-02 00:00:00</td>\n",
       "      <td>77120.250000</td>\n",
       "      <td>2014.000000</td>\n",
       "      <td>3.000000</td>\n",
       "    </tr>\n",
       "    <tr>\n",
       "      <th>50%</th>\n",
       "      <td>13025.500000</td>\n",
       "      <td>2014-08-02 00:00:00</td>\n",
       "      <td>153106.500000</td>\n",
       "      <td>2014.000000</td>\n",
       "      <td>6.000000</td>\n",
       "    </tr>\n",
       "    <tr>\n",
       "      <th>75%</th>\n",
       "      <td>19538.250000</td>\n",
       "      <td>2014-12-28 00:00:00</td>\n",
       "      <td>228050.000000</td>\n",
       "      <td>2014.000000</td>\n",
       "      <td>10.000000</td>\n",
       "    </tr>\n",
       "    <tr>\n",
       "      <th>max</th>\n",
       "      <td>26051.000000</td>\n",
       "      <td>2015-05-26 00:00:00</td>\n",
       "      <td>998077.000000</td>\n",
       "      <td>2015.000000</td>\n",
       "      <td>12.000000</td>\n",
       "    </tr>\n",
       "    <tr>\n",
       "      <th>std</th>\n",
       "      <td>7520.708943</td>\n",
       "      <td>NaN</td>\n",
       "      <td>103063.254287</td>\n",
       "      <td>0.620761</td>\n",
       "      <td>3.739676</td>\n",
       "    </tr>\n",
       "  </tbody>\n",
       "</table>\n",
       "</div>"
      ],
      "text/plain": [
       "              index                           Date         Amount  \\\n",
       "count  26052.000000                          26052   26052.000000   \n",
       "mean   13025.500000  2014-07-30 11:34:44.385075968  156411.537425   \n",
       "min        0.000000            2013-10-04 00:00:00    1005.000000   \n",
       "25%     6512.750000            2014-03-02 00:00:00   77120.250000   \n",
       "50%    13025.500000            2014-08-02 00:00:00  153106.500000   \n",
       "75%    19538.250000            2014-12-28 00:00:00  228050.000000   \n",
       "max    26051.000000            2015-05-26 00:00:00  998077.000000   \n",
       "std     7520.708943                            NaN  103063.254287   \n",
       "\n",
       "               Year         Month  \n",
       "count  26052.000000  26052.000000  \n",
       "mean    2014.092392      6.354023  \n",
       "min     2013.000000      1.000000  \n",
       "25%     2014.000000      3.000000  \n",
       "50%     2014.000000      6.000000  \n",
       "75%     2014.000000     10.000000  \n",
       "max     2015.000000     12.000000  \n",
       "std        0.620761      3.739676  "
      ]
     },
     "execution_count": 52,
     "metadata": {},
     "output_type": "execute_result"
    }
   ],
   "source": [
    "df.describe()"
   ]
  },
  {
   "cell_type": "code",
   "execution_count": 53,
   "id": "e492f46a-7f79-46ff-9adc-570c86651178",
   "metadata": {},
   "outputs": [
    {
     "data": {
      "text/html": [
       "<div>\n",
       "<style scoped>\n",
       "    .dataframe tbody tr th:only-of-type {\n",
       "        vertical-align: middle;\n",
       "    }\n",
       "\n",
       "    .dataframe tbody tr th {\n",
       "        vertical-align: top;\n",
       "    }\n",
       "\n",
       "    .dataframe thead th {\n",
       "        text-align: right;\n",
       "    }\n",
       "</style>\n",
       "<table border=\"1\" class=\"dataframe\">\n",
       "  <thead>\n",
       "    <tr style=\"text-align: right;\">\n",
       "      <th></th>\n",
       "      <th>count</th>\n",
       "      <th>unique</th>\n",
       "      <th>top</th>\n",
       "      <th>freq</th>\n",
       "    </tr>\n",
       "    <tr>\n",
       "      <th>Card_Type</th>\n",
       "      <th></th>\n",
       "      <th></th>\n",
       "      <th></th>\n",
       "      <th></th>\n",
       "    </tr>\n",
       "  </thead>\n",
       "  <tbody>\n",
       "    <tr>\n",
       "      <th>Gold</th>\n",
       "      <td>6367</td>\n",
       "      <td>6</td>\n",
       "      <td>Food</td>\n",
       "      <td>1322</td>\n",
       "    </tr>\n",
       "    <tr>\n",
       "      <th>Platinum</th>\n",
       "      <td>6398</td>\n",
       "      <td>6</td>\n",
       "      <td>Food</td>\n",
       "      <td>1371</td>\n",
       "    </tr>\n",
       "    <tr>\n",
       "      <th>Signature</th>\n",
       "      <td>6447</td>\n",
       "      <td>6</td>\n",
       "      <td>Food</td>\n",
       "      <td>1329</td>\n",
       "    </tr>\n",
       "    <tr>\n",
       "      <th>Silver</th>\n",
       "      <td>6840</td>\n",
       "      <td>6</td>\n",
       "      <td>Food</td>\n",
       "      <td>1441</td>\n",
       "    </tr>\n",
       "  </tbody>\n",
       "</table>\n",
       "</div>"
      ],
      "text/plain": [
       "          count unique   top  freq\n",
       "Card_Type                         \n",
       "Gold       6367      6  Food  1322\n",
       "Platinum   6398      6  Food  1371\n",
       "Signature  6447      6  Food  1329\n",
       "Silver     6840      6  Food  1441"
      ]
     },
     "execution_count": 53,
     "metadata": {},
     "output_type": "execute_result"
    }
   ],
   "source": [
    "df.groupby('Card_Type')['Exp_Type'].describe()"
   ]
  },
  {
   "cell_type": "code",
   "execution_count": 54,
   "id": "cc1383a9-0844-4fa4-88f7-22affe9b7a76",
   "metadata": {},
   "outputs": [
    {
     "data": {
      "image/png": "[encoded data removed]",
      "text/plain": [
       "<Figure size 640x480 with 1 Axes>"
      ]
     },
     "metadata": {},
     "output_type": "display_data"
    }
   ],
   "source": [
    "sb.barplot(x=df.Exp_Type,y=df.Amount)\n",
    "plt.xticks(rotation=45)\n",
    "plt.show()"
   ]
  },
  {
   "cell_type": "code",
   "execution_count": 57,
   "id": "48e23051-8252-4baf-b14f-dcb84d72554e",
   "metadata": {},
   "outputs": [
    {
     "data": {
      "text/html": [
       "<div>\n",
       "<style scoped>\n",
       "    .dataframe tbody tr th:only-of-type {\n",
       "        vertical-align: middle;\n",
       "    }\n",
       "\n",
       "    .dataframe tbody tr th {\n",
       "        vertical-align: top;\n",
       "    }\n",
       "\n",
       "    .dataframe thead th {\n",
       "        text-align: right;\n",
       "    }\n",
       "</style>\n",
       "<table border=\"1\" class=\"dataframe\">\n",
       "  <thead>\n",
       "    <tr style=\"text-align: right;\">\n",
       "      <th></th>\n",
       "      <th>Card_Type</th>\n",
       "      <th>Exp_Type</th>\n",
       "      <th>Amount</th>\n",
       "    </tr>\n",
       "  </thead>\n",
       "  <tbody>\n",
       "    <tr>\n",
       "      <th>0</th>\n",
       "      <td>Gold</td>\n",
       "      <td>Bills</td>\n",
       "      <td>179565.245223</td>\n",
       "    </tr>\n",
       "    <tr>\n",
       "      <th>1</th>\n",
       "      <td>Gold</td>\n",
       "      <td>Entertainment</td>\n",
       "      <td>151765.934383</td>\n",
       "    </tr>\n",
       "    <tr>\n",
       "      <th>2</th>\n",
       "      <td>Gold</td>\n",
       "      <td>Food</td>\n",
       "      <td>146563.127080</td>\n",
       "    </tr>\n",
       "    <tr>\n",
       "      <th>3</th>\n",
       "      <td>Gold</td>\n",
       "      <td>Fuel</td>\n",
       "      <td>147790.054753</td>\n",
       "    </tr>\n",
       "    <tr>\n",
       "      <th>4</th>\n",
       "      <td>Gold</td>\n",
       "      <td>Grocery</td>\n",
       "      <td>148567.339589</td>\n",
       "    </tr>\n",
       "    <tr>\n",
       "      <th>5</th>\n",
       "      <td>Gold</td>\n",
       "      <td>Travel</td>\n",
       "      <td>147122.150943</td>\n",
       "    </tr>\n",
       "    <tr>\n",
       "      <th>6</th>\n",
       "      <td>Platinum</td>\n",
       "      <td>Bills</td>\n",
       "      <td>180657.117168</td>\n",
       "    </tr>\n",
       "    <tr>\n",
       "      <th>7</th>\n",
       "      <td>Platinum</td>\n",
       "      <td>Entertainment</td>\n",
       "      <td>156367.934288</td>\n",
       "    </tr>\n",
       "    <tr>\n",
       "      <th>8</th>\n",
       "      <td>Platinum</td>\n",
       "      <td>Food</td>\n",
       "      <td>153405.404814</td>\n",
       "    </tr>\n",
       "    <tr>\n",
       "      <th>9</th>\n",
       "      <td>Platinum</td>\n",
       "      <td>Fuel</td>\n",
       "      <td>149054.808756</td>\n",
       "    </tr>\n",
       "    <tr>\n",
       "      <th>10</th>\n",
       "      <td>Platinum</td>\n",
       "      <td>Grocery</td>\n",
       "      <td>151646.743363</td>\n",
       "    </tr>\n",
       "    <tr>\n",
       "      <th>11</th>\n",
       "      <td>Platinum</td>\n",
       "      <td>Travel</td>\n",
       "      <td>135495.491620</td>\n",
       "    </tr>\n",
       "    <tr>\n",
       "      <th>12</th>\n",
       "      <td>Signature</td>\n",
       "      <td>Bills</td>\n",
       "      <td>179599.262907</td>\n",
       "    </tr>\n",
       "    <tr>\n",
       "      <th>13</th>\n",
       "      <td>Signature</td>\n",
       "      <td>Entertainment</td>\n",
       "      <td>152691.436752</td>\n",
       "    </tr>\n",
       "    <tr>\n",
       "      <th>14</th>\n",
       "      <td>Signature</td>\n",
       "      <td>Food</td>\n",
       "      <td>155190.228743</td>\n",
       "    </tr>\n",
       "    <tr>\n",
       "      <th>15</th>\n",
       "      <td>Signature</td>\n",
       "      <td>Fuel</td>\n",
       "      <td>146032.260498</td>\n",
       "    </tr>\n",
       "    <tr>\n",
       "      <th>16</th>\n",
       "      <td>Signature</td>\n",
       "      <td>Grocery</td>\n",
       "      <td>152559.080882</td>\n",
       "    </tr>\n",
       "    <tr>\n",
       "      <th>17</th>\n",
       "      <td>Signature</td>\n",
       "      <td>Travel</td>\n",
       "      <td>153625.899441</td>\n",
       "    </tr>\n",
       "    <tr>\n",
       "      <th>18</th>\n",
       "      <td>Silver</td>\n",
       "      <td>Bills</td>\n",
       "      <td>174959.112444</td>\n",
       "    </tr>\n",
       "    <tr>\n",
       "      <th>19</th>\n",
       "      <td>Silver</td>\n",
       "      <td>Entertainment</td>\n",
       "      <td>149533.561014</td>\n",
       "    </tr>\n",
       "    <tr>\n",
       "      <th>20</th>\n",
       "      <td>Silver</td>\n",
       "      <td>Food</td>\n",
       "      <td>148786.211659</td>\n",
       "    </tr>\n",
       "    <tr>\n",
       "      <th>21</th>\n",
       "      <td>Silver</td>\n",
       "      <td>Fuel</td>\n",
       "      <td>157256.315362</td>\n",
       "    </tr>\n",
       "    <tr>\n",
       "      <th>22</th>\n",
       "      <td>Silver</td>\n",
       "      <td>Grocery</td>\n",
       "      <td>151341.088993</td>\n",
       "    </tr>\n",
       "    <tr>\n",
       "      <th>23</th>\n",
       "      <td>Silver</td>\n",
       "      <td>Travel</td>\n",
       "      <td>156624.916667</td>\n",
       "    </tr>\n",
       "  </tbody>\n",
       "</table>\n",
       "</div>"
      ],
      "text/plain": [
       "    Card_Type       Exp_Type         Amount\n",
       "0        Gold          Bills  179565.245223\n",
       "1        Gold  Entertainment  151765.934383\n",
       "2        Gold           Food  146563.127080\n",
       "3        Gold           Fuel  147790.054753\n",
       "4        Gold        Grocery  148567.339589\n",
       "5        Gold         Travel  147122.150943\n",
       "6    Platinum          Bills  180657.117168\n",
       "7    Platinum  Entertainment  156367.934288\n",
       "8    Platinum           Food  153405.404814\n",
       "9    Platinum           Fuel  149054.808756\n",
       "10   Platinum        Grocery  151646.743363\n",
       "11   Platinum         Travel  135495.491620\n",
       "12  Signature          Bills  179599.262907\n",
       "13  Signature  Entertainment  152691.436752\n",
       "14  Signature           Food  155190.228743\n",
       "15  Signature           Fuel  146032.260498\n",
       "16  Signature        Grocery  152559.080882\n",
       "17  Signature         Travel  153625.899441\n",
       "18     Silver          Bills  174959.112444\n",
       "19     Silver  Entertainment  149533.561014\n",
       "20     Silver           Food  148786.211659\n",
       "21     Silver           Fuel  157256.315362\n",
       "22     Silver        Grocery  151341.088993\n",
       "23     Silver         Travel  156624.916667"
      ]
     },
     "execution_count": 57,
     "metadata": {},
     "output_type": "execute_result"
    }
   ],
   "source": [
    "df.groupby(['Card_Type','Exp_Type'])['Amount'].mean().reset_index()"
   ]
  },
  {
   "cell_type": "code",
   "execution_count": 58,
   "id": "8fa23617-75d1-4f96-bbc8-cd1cac48793c",
   "metadata": {},
   "outputs": [
    {
     "data": {
      "text/html": [
       "<div>\n",
       "<style scoped>\n",
       "    .dataframe tbody tr th:only-of-type {\n",
       "        vertical-align: middle;\n",
       "    }\n",
       "\n",
       "    .dataframe tbody tr th {\n",
       "        vertical-align: top;\n",
       "    }\n",
       "\n",
       "    .dataframe thead th {\n",
       "        text-align: right;\n",
       "    }\n",
       "</style>\n",
       "<table border=\"1\" class=\"dataframe\">\n",
       "  <thead>\n",
       "    <tr style=\"text-align: right;\">\n",
       "      <th>Exp_Type</th>\n",
       "      <th>Bills</th>\n",
       "      <th>Entertainment</th>\n",
       "      <th>Food</th>\n",
       "      <th>Fuel</th>\n",
       "      <th>Grocery</th>\n",
       "      <th>Travel</th>\n",
       "    </tr>\n",
       "    <tr>\n",
       "      <th>Card_Type</th>\n",
       "      <th></th>\n",
       "      <th></th>\n",
       "      <th></th>\n",
       "      <th></th>\n",
       "      <th></th>\n",
       "      <th></th>\n",
       "    </tr>\n",
       "  </thead>\n",
       "  <tbody>\n",
       "    <tr>\n",
       "      <th>Gold</th>\n",
       "      <td>1256</td>\n",
       "      <td>1143</td>\n",
       "      <td>1322</td>\n",
       "      <td>1315</td>\n",
       "      <td>1119</td>\n",
       "      <td>212</td>\n",
       "    </tr>\n",
       "    <tr>\n",
       "      <th>Platinum</th>\n",
       "      <td>1229</td>\n",
       "      <td>1187</td>\n",
       "      <td>1371</td>\n",
       "      <td>1302</td>\n",
       "      <td>1130</td>\n",
       "      <td>179</td>\n",
       "    </tr>\n",
       "    <tr>\n",
       "      <th>Signature</th>\n",
       "      <td>1259</td>\n",
       "      <td>1170</td>\n",
       "      <td>1329</td>\n",
       "      <td>1286</td>\n",
       "      <td>1224</td>\n",
       "      <td>179</td>\n",
       "    </tr>\n",
       "    <tr>\n",
       "      <th>Silver</th>\n",
       "      <td>1334</td>\n",
       "      <td>1262</td>\n",
       "      <td>1441</td>\n",
       "      <td>1354</td>\n",
       "      <td>1281</td>\n",
       "      <td>168</td>\n",
       "    </tr>\n",
       "  </tbody>\n",
       "</table>\n",
       "</div>"
      ],
      "text/plain": [
       "Exp_Type   Bills  Entertainment  Food  Fuel  Grocery  Travel\n",
       "Card_Type                                                   \n",
       "Gold        1256           1143  1322  1315     1119     212\n",
       "Platinum    1229           1187  1371  1302     1130     179\n",
       "Signature   1259           1170  1329  1286     1224     179\n",
       "Silver      1334           1262  1441  1354     1281     168"
      ]
     },
     "execution_count": 58,
     "metadata": {},
     "output_type": "execute_result"
    }
   ],
   "source": [
    "pd.crosstab(df['Card_Type'],df['Exp_Type'])"
   ]
  },
  {
   "cell_type": "code",
   "execution_count": 59,
   "id": "99f1a22b-4a09-4f10-a947-9703add7ebdc",
   "metadata": {},
   "outputs": [
    {
     "data": {
      "text/html": [
       "<div>\n",
       "<style scoped>\n",
       "    .dataframe tbody tr th:only-of-type {\n",
       "        vertical-align: middle;\n",
       "    }\n",
       "\n",
       "    .dataframe tbody tr th {\n",
       "        vertical-align: top;\n",
       "    }\n",
       "\n",
       "    .dataframe thead th {\n",
       "        text-align: right;\n",
       "    }\n",
       "</style>\n",
       "<table border=\"1\" class=\"dataframe\">\n",
       "  <thead>\n",
       "    <tr style=\"text-align: right;\">\n",
       "      <th></th>\n",
       "      <th>index</th>\n",
       "      <th>Amount</th>\n",
       "      <th>Year</th>\n",
       "      <th>Month</th>\n",
       "    </tr>\n",
       "  </thead>\n",
       "  <tbody>\n",
       "    <tr>\n",
       "      <th>index</th>\n",
       "      <td>1.000000</td>\n",
       "      <td>-0.106806</td>\n",
       "      <td>-0.006092</td>\n",
       "      <td>0.002670</td>\n",
       "    </tr>\n",
       "    <tr>\n",
       "      <th>Amount</th>\n",
       "      <td>-0.106806</td>\n",
       "      <td>1.000000</td>\n",
       "      <td>0.009809</td>\n",
       "      <td>-0.010555</td>\n",
       "    </tr>\n",
       "    <tr>\n",
       "      <th>Year</th>\n",
       "      <td>-0.006092</td>\n",
       "      <td>0.009809</td>\n",
       "      <td>1.000000</td>\n",
       "      <td>-0.662265</td>\n",
       "    </tr>\n",
       "    <tr>\n",
       "      <th>Month</th>\n",
       "      <td>0.002670</td>\n",
       "      <td>-0.010555</td>\n",
       "      <td>-0.662265</td>\n",
       "      <td>1.000000</td>\n",
       "    </tr>\n",
       "  </tbody>\n",
       "</table>\n",
       "</div>"
      ],
      "text/plain": [
       "           index    Amount      Year     Month\n",
       "index   1.000000 -0.106806 -0.006092  0.002670\n",
       "Amount -0.106806  1.000000  0.009809 -0.010555\n",
       "Year   -0.006092  0.009809  1.000000 -0.662265\n",
       "Month   0.002670 -0.010555 -0.662265  1.000000"
      ]
     },
     "execution_count": 59,
     "metadata": {},
     "output_type": "execute_result"
    }
   ],
   "source": [
    "df.corr(numeric_only=True)"
   ]
  },
  {
   "cell_type": "code",
   "execution_count": 60,
   "id": "a9d471a2-8648-4592-9d7e-82a1b7adcebe",
   "metadata": {},
   "outputs": [
    {
     "data": {
      "text/plain": [
       "Card_Type\n",
       "Silver       6840\n",
       "Signature    6447\n",
       "Platinum     6398\n",
       "Gold         6367\n",
       "Name: count, dtype: int64"
      ]
     },
     "execution_count": 60,
     "metadata": {},
     "output_type": "execute_result"
    }
   ],
   "source": [
    "df['Card_Type'].value_counts()"
   ]
  },
  {
   "cell_type": "code",
   "execution_count": 61,
   "id": "697044f7-b87b-42ac-9d9b-2a48d5118dff",
   "metadata": {},
   "outputs": [
    {
     "data": {
      "image/png": "[encoded data removed]",
      "text/plain": [
       "<Figure size 640x480 with 1 Axes>"
      ]
     },
     "metadata": {},
     "output_type": "display_data"
    }
   ],
   "source": [
    "sb.countplot(x=df.Card_Type)\n",
    "plt.show()"
   ]
  },
  {
   "cell_type": "code",
   "execution_count": 64,
   "id": "55ffac74-2c82-4b0a-81a0-6740e9d71434",
   "metadata": {},
   "outputs": [
    {
     "data": {
      "text/plain": [
       "Gender\n",
       "F    161206.946637\n",
       "M    151109.145086\n",
       "Name: Amount, dtype: float64"
      ]
     },
     "execution_count": 64,
     "metadata": {},
     "output_type": "execute_result"
    }
   ],
   "source": [
    "df.groupby('Gender')['Amount'].mean()"
   ]
  },
  {
   "cell_type": "code",
   "execution_count": 65,
   "id": "530eb647-fa00-4ddf-bff4-fc6af802eaed",
   "metadata": {},
   "outputs": [
    {
     "data": {
      "text/plain": [
       "Exp_Type       Gender\n",
       "Bills          F         202809.604545\n",
       "               M         147446.800721\n",
       "Entertainment  F         150446.028943\n",
       "               M         154656.939865\n",
       "Food           F         150337.742032\n",
       "               M         151736.731946\n",
       "Fuel           F         149897.753535\n",
       "               M         150323.257576\n",
       "Grocery        F         150595.962932\n",
       "               M         151573.914445\n",
       "Travel         F         147402.453826\n",
       "               M         148718.888579\n",
       "Name: Amount, dtype: float64"
      ]
     },
     "execution_count": 65,
     "metadata": {},
     "output_type": "execute_result"
    }
   ],
   "source": [
    "df.groupby(['Exp_Type','Gender'])['Amount'].mean()"
   ]
  },
  {
   "cell_type": "code",
   "execution_count": 66,
   "id": "c89187aa-e4d2-4890-8765-94a61a0677da",
   "metadata": {},
   "outputs": [
    {
     "data": {
      "image/png": "[encoded data removed]",
      "text/plain": [
       "<Figure size 640x480 with 1 Axes>"
      ]
     },
     "metadata": {},
     "output_type": "display_data"
    }
   ],
   "source": [
    "sb.countplot(x=df.Exp_Type)\n",
    "plt.xticks(rotation=90)\n",
    "plt.show()"
   ]
  },
  {
   "cell_type": "code",
   "execution_count": 67,
   "id": "e8eacd56-6fe0-4206-b42e-8303b6360bb6",
   "metadata": {},
   "outputs": [
    {
     "data": {
      "text/plain": [
       "City\n",
       "Bengaluru, India         3552\n",
       "Greater Mumbai, India    3493\n",
       "Ahmedabad, India         3491\n",
       "Delhi, India             3482\n",
       "Hyderabad, India          784\n",
       "Chennai, India            774\n",
       "Kolkata, India            773\n",
       "Kanpur, India             764\n",
       "Lucknow, India            759\n",
       "Jaipur, India             752\n",
       "Name: count, dtype: int64"
      ]
     },
     "execution_count": 67,
     "metadata": {},
     "output_type": "execute_result"
    }
   ],
   "source": [
    "df['City'].value_counts().nlargest(10)"
   ]
  },
  {
   "cell_type": "code",
   "execution_count": 68,
   "id": "7823c716-822c-4f68-a6e2-44e0665b31a7",
   "metadata": {},
   "outputs": [],
   "source": [
    "df['City']=df['City'].astype(str)"
   ]
  },
  {
   "cell_type": "code",
   "execution_count": 69,
   "id": "415047c6-1137-4fd8-a596-4e4384cdf0de",
   "metadata": {},
   "outputs": [
    {
     "data": {
      "text/plain": [
       "Date\n",
       "2013-10-04    9738755\n",
       "2013-10-05    8062632\n",
       "2013-10-06    6990055\n",
       "2013-10-07    7822992\n",
       "2013-10-08    5832533\n",
       "               ...   \n",
       "2015-05-22    6613863\n",
       "2015-05-23    6393798\n",
       "2015-05-24    7171912\n",
       "2015-05-25    5176669\n",
       "2015-05-26    7591837\n",
       "Name: Amount, Length: 600, dtype: int64"
      ]
     },
     "execution_count": 69,
     "metadata": {},
     "output_type": "execute_result"
    }
   ],
   "source": [
    "df.groupby('Date')['Amount'].sum()"
   ]
  },
  {
   "cell_type": "code",
   "execution_count": 71,
   "id": "0c739822-b794-4884-a5db-9ea1f38ebdb9",
   "metadata": {},
   "outputs": [
    {
     "data": {
      "text/plain": [
       "465601.300285343"
      ]
     },
     "execution_count": 71,
     "metadata": {},
     "output_type": "execute_result"
    }
   ],
   "source": [
    "a=df['Amount'].mean()+3*df['Amount'].std()\n",
    "a"
   ]
  },
  {
   "cell_type": "code",
   "execution_count": 72,
   "id": "37b5d157-d39c-412d-9819-a6bb72a859c3",
   "metadata": {},
   "outputs": [
    {
     "data": {
      "text/html": [
       "<div>\n",
       "<style scoped>\n",
       "    .dataframe tbody tr th:only-of-type {\n",
       "        vertical-align: middle;\n",
       "    }\n",
       "\n",
       "    .dataframe tbody tr th {\n",
       "        vertical-align: top;\n",
       "    }\n",
       "\n",
       "    .dataframe thead th {\n",
       "        text-align: right;\n",
       "    }\n",
       "</style>\n",
       "<table border=\"1\" class=\"dataframe\">\n",
       "  <thead>\n",
       "    <tr style=\"text-align: right;\">\n",
       "      <th></th>\n",
       "      <th>index</th>\n",
       "      <th>City</th>\n",
       "      <th>Date</th>\n",
       "      <th>Card_Type</th>\n",
       "      <th>Exp_Type</th>\n",
       "      <th>Gender</th>\n",
       "      <th>Amount</th>\n",
       "      <th>Year</th>\n",
       "      <th>Month</th>\n",
       "    </tr>\n",
       "  </thead>\n",
       "  <tbody>\n",
       "    <tr>\n",
       "      <th>15</th>\n",
       "      <td>15</td>\n",
       "      <td>Greater Mumbai, India</td>\n",
       "      <td>2014-11-28</td>\n",
       "      <td>Platinum</td>\n",
       "      <td>Bills</td>\n",
       "      <td>F</td>\n",
       "      <td>647116</td>\n",
       "      <td>2014</td>\n",
       "      <td>11</td>\n",
       "    </tr>\n",
       "    <tr>\n",
       "      <th>17</th>\n",
       "      <td>17</td>\n",
       "      <td>Greater Mumbai, India</td>\n",
       "      <td>2015-03-30</td>\n",
       "      <td>Gold</td>\n",
       "      <td>Bills</td>\n",
       "      <td>F</td>\n",
       "      <td>986379</td>\n",
       "      <td>2015</td>\n",
       "      <td>3</td>\n",
       "    </tr>\n",
       "    <tr>\n",
       "      <th>19</th>\n",
       "      <td>19</td>\n",
       "      <td>Greater Mumbai, India</td>\n",
       "      <td>2013-11-09</td>\n",
       "      <td>Platinum</td>\n",
       "      <td>Bills</td>\n",
       "      <td>F</td>\n",
       "      <td>735566</td>\n",
       "      <td>2013</td>\n",
       "      <td>11</td>\n",
       "    </tr>\n",
       "    <tr>\n",
       "      <th>21</th>\n",
       "      <td>21</td>\n",
       "      <td>Delhi, India</td>\n",
       "      <td>2014-07-01</td>\n",
       "      <td>Signature</td>\n",
       "      <td>Bills</td>\n",
       "      <td>F</td>\n",
       "      <td>809623</td>\n",
       "      <td>2014</td>\n",
       "      <td>7</td>\n",
       "    </tr>\n",
       "    <tr>\n",
       "      <th>22</th>\n",
       "      <td>22</td>\n",
       "      <td>Greater Mumbai, India</td>\n",
       "      <td>2015-03-27</td>\n",
       "      <td>Silver</td>\n",
       "      <td>Bills</td>\n",
       "      <td>F</td>\n",
       "      <td>467014</td>\n",
       "      <td>2015</td>\n",
       "      <td>3</td>\n",
       "    </tr>\n",
       "    <tr>\n",
       "      <th>...</th>\n",
       "      <td>...</td>\n",
       "      <td>...</td>\n",
       "      <td>...</td>\n",
       "      <td>...</td>\n",
       "      <td>...</td>\n",
       "      <td>...</td>\n",
       "      <td>...</td>\n",
       "      <td>...</td>\n",
       "      <td>...</td>\n",
       "    </tr>\n",
       "    <tr>\n",
       "      <th>344</th>\n",
       "      <td>344</td>\n",
       "      <td>Ahmedabad, India</td>\n",
       "      <td>2013-12-07</td>\n",
       "      <td>Platinum</td>\n",
       "      <td>Bills</td>\n",
       "      <td>F</td>\n",
       "      <td>515263</td>\n",
       "      <td>2013</td>\n",
       "      <td>12</td>\n",
       "    </tr>\n",
       "    <tr>\n",
       "      <th>346</th>\n",
       "      <td>346</td>\n",
       "      <td>Ahmedabad, India</td>\n",
       "      <td>2014-06-16</td>\n",
       "      <td>Silver</td>\n",
       "      <td>Bills</td>\n",
       "      <td>F</td>\n",
       "      <td>934683</td>\n",
       "      <td>2014</td>\n",
       "      <td>6</td>\n",
       "    </tr>\n",
       "    <tr>\n",
       "      <th>348</th>\n",
       "      <td>348</td>\n",
       "      <td>Greater Mumbai, India</td>\n",
       "      <td>2015-01-28</td>\n",
       "      <td>Gold</td>\n",
       "      <td>Bills</td>\n",
       "      <td>F</td>\n",
       "      <td>654519</td>\n",
       "      <td>2015</td>\n",
       "      <td>1</td>\n",
       "    </tr>\n",
       "    <tr>\n",
       "      <th>349</th>\n",
       "      <td>349</td>\n",
       "      <td>Ahmedabad, India</td>\n",
       "      <td>2014-06-12</td>\n",
       "      <td>Gold</td>\n",
       "      <td>Bills</td>\n",
       "      <td>F</td>\n",
       "      <td>958047</td>\n",
       "      <td>2014</td>\n",
       "      <td>6</td>\n",
       "    </tr>\n",
       "    <tr>\n",
       "      <th>351</th>\n",
       "      <td>351</td>\n",
       "      <td>Ahmedabad, India</td>\n",
       "      <td>2013-12-31</td>\n",
       "      <td>Signature</td>\n",
       "      <td>Bills</td>\n",
       "      <td>F</td>\n",
       "      <td>653161</td>\n",
       "      <td>2013</td>\n",
       "      <td>12</td>\n",
       "    </tr>\n",
       "  </tbody>\n",
       "</table>\n",
       "<p>224 rows × 9 columns</p>\n",
       "</div>"
      ],
      "text/plain": [
       "     index                   City       Date  Card_Type Exp_Type Gender  \\\n",
       "15      15  Greater Mumbai, India 2014-11-28   Platinum    Bills      F   \n",
       "17      17  Greater Mumbai, India 2015-03-30       Gold    Bills      F   \n",
       "19      19  Greater Mumbai, India 2013-11-09   Platinum    Bills      F   \n",
       "21      21           Delhi, India 2014-07-01  Signature    Bills      F   \n",
       "22      22  Greater Mumbai, India 2015-03-27     Silver    Bills      F   \n",
       "..     ...                    ...        ...        ...      ...    ...   \n",
       "344    344       Ahmedabad, India 2013-12-07   Platinum    Bills      F   \n",
       "346    346       Ahmedabad, India 2014-06-16     Silver    Bills      F   \n",
       "348    348  Greater Mumbai, India 2015-01-28       Gold    Bills      F   \n",
       "349    349       Ahmedabad, India 2014-06-12       Gold    Bills      F   \n",
       "351    351       Ahmedabad, India 2013-12-31  Signature    Bills      F   \n",
       "\n",
       "     Amount  Year  Month  \n",
       "15   647116  2014     11  \n",
       "17   986379  2015      3  \n",
       "19   735566  2013     11  \n",
       "21   809623  2014      7  \n",
       "22   467014  2015      3  \n",
       "..      ...   ...    ...  \n",
       "344  515263  2013     12  \n",
       "346  934683  2014      6  \n",
       "348  654519  2015      1  \n",
       "349  958047  2014      6  \n",
       "351  653161  2013     12  \n",
       "\n",
       "[224 rows x 9 columns]"
      ]
     },
     "execution_count": 72,
     "metadata": {},
     "output_type": "execute_result"
    }
   ],
   "source": [
    "df[df['Amount'] > a]"
   ]
  },
  {
   "cell_type": "code",
   "execution_count": 74,
   "id": "76654f47-298b-48f5-af3f-44a6a3d41246",
   "metadata": {},
   "outputs": [
    {
     "data": {
      "text/plain": [
       "Exp_Type\n",
       "Bills            178627.899370\n",
       "Entertainment    152548.831583\n",
       "Grocery          151074.447413\n",
       "Food             150965.405272\n",
       "Fuel             150111.436371\n",
       "Travel           148042.833333\n",
       "Name: Amount, dtype: float64"
      ]
     },
     "execution_count": 74,
     "metadata": {},
     "output_type": "execute_result"
    }
   ],
   "source": [
    "df.groupby('Exp_Type')['Amount'].mean().sort_values(ascending=False).head(10)"
   ]
  },
  {
   "cell_type": "code",
   "execution_count": 75,
   "id": "c8674c38-bfa8-4064-bf56-35f91fec2f44",
   "metadata": {},
   "outputs": [
    {
     "data": {
      "text/html": [
       "<div>\n",
       "<style scoped>\n",
       "    .dataframe tbody tr th:only-of-type {\n",
       "        vertical-align: middle;\n",
       "    }\n",
       "\n",
       "    .dataframe tbody tr th {\n",
       "        vertical-align: top;\n",
       "    }\n",
       "\n",
       "    .dataframe thead th {\n",
       "        text-align: right;\n",
       "    }\n",
       "</style>\n",
       "<table border=\"1\" class=\"dataframe\">\n",
       "  <thead>\n",
       "    <tr style=\"text-align: right;\">\n",
       "      <th>Card_Type</th>\n",
       "      <th>Gold</th>\n",
       "      <th>Platinum</th>\n",
       "      <th>Signature</th>\n",
       "      <th>Silver</th>\n",
       "    </tr>\n",
       "    <tr>\n",
       "      <th>Exp_Type</th>\n",
       "      <th></th>\n",
       "      <th></th>\n",
       "      <th></th>\n",
       "      <th></th>\n",
       "    </tr>\n",
       "  </thead>\n",
       "  <tbody>\n",
       "    <tr>\n",
       "      <th>Bills</th>\n",
       "      <td>1256</td>\n",
       "      <td>1229</td>\n",
       "      <td>1259</td>\n",
       "      <td>1334</td>\n",
       "    </tr>\n",
       "    <tr>\n",
       "      <th>Entertainment</th>\n",
       "      <td>1143</td>\n",
       "      <td>1187</td>\n",
       "      <td>1170</td>\n",
       "      <td>1262</td>\n",
       "    </tr>\n",
       "    <tr>\n",
       "      <th>Food</th>\n",
       "      <td>1322</td>\n",
       "      <td>1371</td>\n",
       "      <td>1329</td>\n",
       "      <td>1441</td>\n",
       "    </tr>\n",
       "    <tr>\n",
       "      <th>Fuel</th>\n",
       "      <td>1315</td>\n",
       "      <td>1302</td>\n",
       "      <td>1286</td>\n",
       "      <td>1354</td>\n",
       "    </tr>\n",
       "    <tr>\n",
       "      <th>Grocery</th>\n",
       "      <td>1119</td>\n",
       "      <td>1130</td>\n",
       "      <td>1224</td>\n",
       "      <td>1281</td>\n",
       "    </tr>\n",
       "    <tr>\n",
       "      <th>Travel</th>\n",
       "      <td>212</td>\n",
       "      <td>179</td>\n",
       "      <td>179</td>\n",
       "      <td>168</td>\n",
       "    </tr>\n",
       "  </tbody>\n",
       "</table>\n",
       "</div>"
      ],
      "text/plain": [
       "Card_Type      Gold  Platinum  Signature  Silver\n",
       "Exp_Type                                        \n",
       "Bills          1256      1229       1259    1334\n",
       "Entertainment  1143      1187       1170    1262\n",
       "Food           1322      1371       1329    1441\n",
       "Fuel           1315      1302       1286    1354\n",
       "Grocery        1119      1130       1224    1281\n",
       "Travel          212       179        179     168"
      ]
     },
     "execution_count": 75,
     "metadata": {},
     "output_type": "execute_result"
    }
   ],
   "source": [
    "pd.crosstab(df['Exp_Type'],df['Card_Type'])"
   ]
  },
  {
   "cell_type": "code",
   "execution_count": null,
   "id": "27b1fc8e-bc3b-4dfd-a149-af50a841fa6b",
   "metadata": {},
   "outputs": [],
   "source": []
  }
 ],
 "metadata": {
  "kernelspec": {
   "display_name": "Python 3 (ipykernel)",
   "language": "python",
   "name": "python3"
  },
  "language_info": {
   "codemirror_mode": {
    "name": "ipython",
    "version": 3
   },
   "file_extension": ".py",
   "mimetype": "text/x-python",
   "name": "python",
   "nbconvert_exporter": "python",
   "pygments_lexer": "ipython3",
   "version": "3.12.7"
  }
 },
 "nbformat": 4,
 "nbformat_minor": 5
}
